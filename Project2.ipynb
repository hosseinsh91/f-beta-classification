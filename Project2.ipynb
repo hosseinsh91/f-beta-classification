{
 "cells": [
  {
   "cell_type": "code",
   "execution_count": 53,
   "id": "5962075b-c789-4cc3-8b4a-77a43e0df5d2",
   "metadata": {
    "tags": []
   },
   "outputs": [],
   "source": [
    "import tensorflow as tf\n",
    "import numpy as np\n",
    "from tensorflow import keras\n",
    "from keras.utils import to_categorical"
   ]
  },
  {
   "cell_type": "markdown",
   "id": "dc24d813-b56e-425e-ae93-bb96da9ece73",
   "metadata": {},
   "source": [
    "# Preprocessing"
   ]
  },
  {
   "cell_type": "code",
   "execution_count": 15,
   "id": "f1e74dae-c8ff-465f-90ba-1bd7b54eb163",
   "metadata": {
    "tags": []
   },
   "outputs": [],
   "source": [
    "(x_train, y_train), (x_test, y_test) = keras.datasets.cifar10.load_data()"
   ]
  },
  {
   "cell_type": "code",
   "execution_count": 16,
   "id": "00b6cc67-5068-4657-8228-d8ae9ca0c82d",
   "metadata": {
    "tags": []
   },
   "outputs": [],
   "source": [
    "x_train, x_test = x_train/255.0, x_test/255.0"
   ]
  },
  {
   "cell_type": "code",
   "execution_count": 17,
   "id": "fb37dde3-d5a8-4d58-bdf2-697847fae4e9",
   "metadata": {
    "tags": []
   },
   "outputs": [
    {
     "data": {
      "text/plain": [
       "(50000, 32, 32, 3)"
      ]
     },
     "execution_count": 17,
     "metadata": {},
     "output_type": "execute_result"
    }
   ],
   "source": [
    "x_train.shape"
   ]
  },
  {
   "cell_type": "code",
   "execution_count": 51,
   "id": "31b5621d-23b1-449f-86fd-11c473c59e07",
   "metadata": {
    "tags": []
   },
   "outputs": [
    {
     "data": {
      "text/plain": [
       "array([[6],\n",
       "       [9],\n",
       "       [9],\n",
       "       ...,\n",
       "       [9],\n",
       "       [1],\n",
       "       [1]], dtype=uint8)"
      ]
     },
     "execution_count": 51,
     "metadata": {},
     "output_type": "execute_result"
    }
   ],
   "source": [
    "y_train"
   ]
  },
  {
   "cell_type": "code",
   "execution_count": 54,
   "id": "113e0366-0334-4277-ae6f-18c6bb363f5b",
   "metadata": {
    "tags": []
   },
   "outputs": [],
   "source": [
    "y_train_hot = to_categorical(y_train)\n",
    "y_test_hot = to_categorical(y_test)"
   ]
  },
  {
   "cell_type": "code",
   "execution_count": 55,
   "id": "42fbb3fa-0b7e-4d14-a11a-180d35a1b091",
   "metadata": {
    "tags": []
   },
   "outputs": [
    {
     "data": {
      "text/plain": [
       "array([[0., 0., 0., ..., 0., 0., 0.],\n",
       "       [0., 0., 0., ..., 0., 0., 1.],\n",
       "       [0., 0., 0., ..., 0., 0., 1.],\n",
       "       ...,\n",
       "       [0., 0., 0., ..., 0., 0., 1.],\n",
       "       [0., 1., 0., ..., 0., 0., 0.],\n",
       "       [0., 1., 0., ..., 0., 0., 0.]], dtype=float32)"
      ]
     },
     "execution_count": 55,
     "metadata": {},
     "output_type": "execute_result"
    }
   ],
   "source": [
    "y_train_hot"
   ]
  },
  {
   "cell_type": "markdown",
   "id": "2bf610a0-c420-485b-a452-a47fc61a1ea0",
   "metadata": {},
   "source": [
    "# Define the model"
   ]
  },
  {
   "cell_type": "code",
   "execution_count": 63,
   "id": "aa454025-5b1e-4db7-82ea-011d4391e1bd",
   "metadata": {
    "tags": []
   },
   "outputs": [],
   "source": [
    "model = keras.models.Sequential()\n",
    "model.add(keras.layers.Flatten(input_shape=[32, 32, 3]))\n",
    "model.add(keras.layers.Dense(50, activation='relu'))\n",
    "model.add(keras.layers.Dense(50, activation='relu'))\n",
    "model.add(keras.layers.Dense(50, activation='relu'))\n",
    "model.add(keras.layers.Dense(10, activation='softmax'))"
   ]
  },
  {
   "cell_type": "markdown",
   "id": "093941ef-5f62-42a7-8cef-f74af32993b4",
   "metadata": {},
   "source": [
    "# Define custom metric evaluation"
   ]
  },
  {
   "cell_type": "code",
   "execution_count": 64,
   "id": "31fd53ee-5bfe-4d94-bfcf-5b65f8399259",
   "metadata": {
    "tags": []
   },
   "outputs": [],
   "source": [
    "def F_beta(y_true , y_pred , beta = 2):\n",
    "    y_pred = tf.clip_by_value(y_pred , 0 , 1)\n",
    "    epsilon = tf.keras.backend.epsilon()\n",
    "    true_positive = tf.reduce_sum(tf.math.round(tf.clip_by_value(y_true * y_pred , 0,1)), axis=1)\n",
    "    false_positive = tf.reduce_sum(tf.math.round(tf.clip_by_value(y_pred - y_true , 0,1)), axis=1)\n",
    "    false_negative = tf.reduce_sum(tf.math.round(tf.clip_by_value(y_true - y_pred , 0,1)), axis=1)\n",
    "    \n",
    "    P = true_positive / (true_positive + false_positive + epsilon)\n",
    "    R = true_positive / (true_positive + false_negative + epsilon)\n",
    "    \n",
    "    return tf.reduce_mean(((1+beta**2)*P*R) / beta**2 * P + R + epsilon)"
   ]
  },
  {
   "cell_type": "code",
   "execution_count": 65,
   "id": "20b4970c-9d65-446a-81ba-3ad37f6a66c7",
   "metadata": {
    "tags": []
   },
   "outputs": [],
   "source": [
    "model.compile(optimizer=keras.optimizers.SGD(learning_rate=0.01),\n",
    "            loss='categorical_crossentropy',\n",
    "            metrics=[F_beta])"
   ]
  },
  {
   "cell_type": "code",
   "execution_count": 66,
   "id": "a605a8fb-15fa-4449-a833-eefca815c32e",
   "metadata": {
    "tags": []
   },
   "outputs": [
    {
     "name": "stdout",
     "output_type": "stream",
     "text": [
      "Epoch 1/50\n",
      "1250/1250 [==============================] - 4s 2ms/step - loss: 1.9910 - F_beta: 0.0528 - val_loss: 1.8452 - val_F_beta: 0.1233\n",
      "Epoch 2/50\n",
      "1250/1250 [==============================] - 3s 2ms/step - loss: 1.8015 - F_beta: 0.1805 - val_loss: 1.7548 - val_F_beta: 0.2408\n",
      "Epoch 3/50\n",
      "1250/1250 [==============================] - 3s 2ms/step - loss: 1.7201 - F_beta: 0.2719 - val_loss: 1.6972 - val_F_beta: 0.2965\n",
      "Epoch 4/50\n",
      "1250/1250 [==============================] - 3s 2ms/step - loss: 1.6697 - F_beta: 0.3382 - val_loss: 1.7005 - val_F_beta: 0.3149\n",
      "Epoch 5/50\n",
      "1250/1250 [==============================] - 3s 2ms/step - loss: 1.6308 - F_beta: 0.3804 - val_loss: 1.6763 - val_F_beta: 0.3520\n",
      "Epoch 6/50\n",
      "1250/1250 [==============================] - 3s 2ms/step - loss: 1.5965 - F_beta: 0.4217 - val_loss: 1.6584 - val_F_beta: 0.3938\n",
      "Epoch 7/50\n",
      "1250/1250 [==============================] - 3s 2ms/step - loss: 1.5667 - F_beta: 0.4618 - val_loss: 1.6302 - val_F_beta: 0.3756\n",
      "Epoch 8/50\n",
      "1250/1250 [==============================] - 3s 2ms/step - loss: 1.5448 - F_beta: 0.4841 - val_loss: 1.6610 - val_F_beta: 0.4614\n",
      "Epoch 9/50\n",
      "1250/1250 [==============================] - 3s 2ms/step - loss: 1.5266 - F_beta: 0.5112 - val_loss: 1.5730 - val_F_beta: 0.4825\n",
      "Epoch 10/50\n",
      "1250/1250 [==============================] - 3s 2ms/step - loss: 1.5095 - F_beta: 0.5343 - val_loss: 1.5810 - val_F_beta: 0.5225\n",
      "Epoch 11/50\n",
      "1250/1250 [==============================] - 3s 2ms/step - loss: 1.4904 - F_beta: 0.5493 - val_loss: 1.5563 - val_F_beta: 0.4677\n",
      "Epoch 12/50\n",
      "1250/1250 [==============================] - 3s 2ms/step - loss: 1.4760 - F_beta: 0.5681 - val_loss: 1.5464 - val_F_beta: 0.5728\n",
      "Epoch 13/50\n",
      "1250/1250 [==============================] - 3s 2ms/step - loss: 1.4627 - F_beta: 0.5889 - val_loss: 1.5904 - val_F_beta: 0.5077\n",
      "Epoch 14/50\n",
      "1250/1250 [==============================] - 3s 2ms/step - loss: 1.4502 - F_beta: 0.5960 - val_loss: 1.5648 - val_F_beta: 0.5481\n",
      "Epoch 15/50\n",
      "1250/1250 [==============================] - 3s 2ms/step - loss: 1.4381 - F_beta: 0.6155 - val_loss: 1.5330 - val_F_beta: 0.5787\n",
      "Epoch 16/50\n",
      "1250/1250 [==============================] - 3s 2ms/step - loss: 1.4275 - F_beta: 0.6295 - val_loss: 1.5008 - val_F_beta: 0.5957\n",
      "Epoch 17/50\n",
      "1250/1250 [==============================] - 3s 2ms/step - loss: 1.4165 - F_beta: 0.6390 - val_loss: 1.5337 - val_F_beta: 0.5868\n",
      "Epoch 18/50\n",
      "1250/1250 [==============================] - 3s 2ms/step - loss: 1.4063 - F_beta: 0.6514 - val_loss: 1.5323 - val_F_beta: 0.6193\n",
      "Epoch 19/50\n",
      "1250/1250 [==============================] - 3s 2ms/step - loss: 1.3930 - F_beta: 0.6691 - val_loss: 1.5153 - val_F_beta: 0.6144\n",
      "Epoch 20/50\n",
      "1250/1250 [==============================] - 3s 2ms/step - loss: 1.3847 - F_beta: 0.6760 - val_loss: 1.4933 - val_F_beta: 0.6027\n",
      "Epoch 21/50\n",
      "1250/1250 [==============================] - 3s 2ms/step - loss: 1.3775 - F_beta: 0.6870 - val_loss: 1.5259 - val_F_beta: 0.5776\n",
      "Epoch 22/50\n",
      "1250/1250 [==============================] - 3s 2ms/step - loss: 1.3663 - F_beta: 0.7006 - val_loss: 1.4789 - val_F_beta: 0.6485\n",
      "Epoch 23/50\n",
      "1250/1250 [==============================] - 3s 2ms/step - loss: 1.3589 - F_beta: 0.7095 - val_loss: 1.5153 - val_F_beta: 0.6634\n",
      "Epoch 24/50\n",
      "1250/1250 [==============================] - 3s 2ms/step - loss: 1.3489 - F_beta: 0.7211 - val_loss: 1.5131 - val_F_beta: 0.6575\n",
      "Epoch 25/50\n",
      "1250/1250 [==============================] - 3s 2ms/step - loss: 1.3422 - F_beta: 0.7332 - val_loss: 1.4735 - val_F_beta: 0.6766\n",
      "Epoch 26/50\n",
      "1250/1250 [==============================] - 3s 2ms/step - loss: 1.3331 - F_beta: 0.7454 - val_loss: 1.5135 - val_F_beta: 0.6483\n",
      "Epoch 27/50\n",
      "1250/1250 [==============================] - 3s 2ms/step - loss: 1.3276 - F_beta: 0.7463 - val_loss: 1.4995 - val_F_beta: 0.6800\n",
      "Epoch 28/50\n",
      "1250/1250 [==============================] - 3s 2ms/step - loss: 1.3182 - F_beta: 0.7594 - val_loss: 1.4524 - val_F_beta: 0.7060\n",
      "Epoch 29/50\n",
      "1250/1250 [==============================] - 3s 2ms/step - loss: 1.3138 - F_beta: 0.7682 - val_loss: 1.4944 - val_F_beta: 0.7150\n",
      "Epoch 30/50\n",
      "1250/1250 [==============================] - 3s 2ms/step - loss: 1.3012 - F_beta: 0.7847 - val_loss: 1.4596 - val_F_beta: 0.7220\n",
      "Epoch 31/50\n",
      "1250/1250 [==============================] - 3s 2ms/step - loss: 1.2949 - F_beta: 0.7917 - val_loss: 1.4463 - val_F_beta: 0.6885\n",
      "Epoch 32/50\n",
      "1250/1250 [==============================] - 3s 2ms/step - loss: 1.2878 - F_beta: 0.7998 - val_loss: 1.4769 - val_F_beta: 0.7222\n",
      "Epoch 33/50\n",
      "1250/1250 [==============================] - 3s 2ms/step - loss: 1.2823 - F_beta: 0.8071 - val_loss: 1.4693 - val_F_beta: 0.7153\n",
      "Epoch 34/50\n",
      "1250/1250 [==============================] - 3s 2ms/step - loss: 1.2727 - F_beta: 0.8150 - val_loss: 1.4891 - val_F_beta: 0.7038\n",
      "Epoch 35/50\n",
      "1250/1250 [==============================] - 3s 2ms/step - loss: 1.2681 - F_beta: 0.8239 - val_loss: 1.4647 - val_F_beta: 0.7112\n",
      "Epoch 36/50\n",
      "1250/1250 [==============================] - 3s 2ms/step - loss: 1.2616 - F_beta: 0.8309 - val_loss: 1.4806 - val_F_beta: 0.6917\n",
      "Epoch 37/50\n",
      "1250/1250 [==============================] - 3s 2ms/step - loss: 1.2543 - F_beta: 0.8448 - val_loss: 1.4693 - val_F_beta: 0.7233\n",
      "Epoch 38/50\n",
      "1250/1250 [==============================] - 3s 2ms/step - loss: 1.2476 - F_beta: 0.8488 - val_loss: 1.4490 - val_F_beta: 0.7456\n",
      "Epoch 39/50\n",
      "1250/1250 [==============================] - 3s 2ms/step - loss: 1.2443 - F_beta: 0.8525 - val_loss: 1.4467 - val_F_beta: 0.7582\n",
      "Epoch 40/50\n",
      "1250/1250 [==============================] - 3s 2ms/step - loss: 1.2360 - F_beta: 0.8618 - val_loss: 1.4959 - val_F_beta: 0.7555\n",
      "Epoch 41/50\n",
      "1250/1250 [==============================] - 3s 2ms/step - loss: 1.2313 - F_beta: 0.8717 - val_loss: 1.4508 - val_F_beta: 0.7566\n",
      "Epoch 42/50\n",
      "1250/1250 [==============================] - 3s 2ms/step - loss: 1.2223 - F_beta: 0.8808 - val_loss: 1.4863 - val_F_beta: 0.7339\n",
      "Epoch 43/50\n",
      "1250/1250 [==============================] - 3s 2ms/step - loss: 1.2208 - F_beta: 0.8867 - val_loss: 1.4366 - val_F_beta: 0.7750\n",
      "Epoch 44/50\n",
      "1250/1250 [==============================] - 3s 2ms/step - loss: 1.2120 - F_beta: 0.8903 - val_loss: 1.4614 - val_F_beta: 0.7822\n",
      "Epoch 45/50\n",
      "1250/1250 [==============================] - 3s 2ms/step - loss: 1.2089 - F_beta: 0.9002 - val_loss: 1.4428 - val_F_beta: 0.7696\n",
      "Epoch 46/50\n",
      "1250/1250 [==============================] - 3s 2ms/step - loss: 1.2036 - F_beta: 0.9029 - val_loss: 1.4578 - val_F_beta: 0.7817\n",
      "Epoch 47/50\n",
      "1250/1250 [==============================] - 3s 2ms/step - loss: 1.1989 - F_beta: 0.9129 - val_loss: 1.4532 - val_F_beta: 0.7914\n",
      "Epoch 48/50\n",
      "1250/1250 [==============================] - 3s 2ms/step - loss: 1.1900 - F_beta: 0.9187 - val_loss: 1.4803 - val_F_beta: 0.7215\n",
      "Epoch 49/50\n",
      "1250/1250 [==============================] - 3s 2ms/step - loss: 1.1853 - F_beta: 0.9273 - val_loss: 1.4529 - val_F_beta: 0.7959\n",
      "Epoch 50/50\n",
      "1250/1250 [==============================] - 3s 2ms/step - loss: 1.1843 - F_beta: 0.9255 - val_loss: 1.4565 - val_F_beta: 0.7689\n"
     ]
    }
   ],
   "source": [
    "history = model.fit(x_train , y_train_hot ,  epochs=50 , validation_split=0.2)"
   ]
  },
  {
   "cell_type": "code",
   "execution_count": null,
   "id": "a5edec68-7fd1-4e61-a0b8-c57724ac6942",
   "metadata": {},
   "outputs": [],
   "source": []
  }
 ],
 "metadata": {
  "kernelspec": {
   "display_name": "Python 3 (ipykernel)",
   "language": "python",
   "name": "python3"
  },
  "language_info": {
   "codemirror_mode": {
    "name": "ipython",
    "version": 3
   },
   "file_extension": ".py",
   "mimetype": "text/x-python",
   "name": "python",
   "nbconvert_exporter": "python",
   "pygments_lexer": "ipython3",
   "version": "3.10.11"
  }
 },
 "nbformat": 4,
 "nbformat_minor": 5
}
